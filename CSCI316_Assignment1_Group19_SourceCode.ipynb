{
 "cells": [
  {
   "cell_type": "markdown",
   "id": "0a902e63",
   "metadata": {},
   "source": [
    "# GROUP 19\n",
    "Li Ming Long, Lay Wee Chong, Jemmy Wianta"
   ]
  },
  {
   "cell_type": "code",
   "execution_count": 1,
   "id": "219a6bf5",
   "metadata": {},
   "outputs": [
    {
     "name": "stdout",
     "output_type": "stream",
     "text": [
      ".\\groupAss1\\A1result\n"
     ]
    }
   ],
   "source": [
    "# To support both python 2 and python 3\n",
    "from __future__ import division, print_function, unicode_literals\n",
    "\n",
    "# Common imports\n",
    "import numpy as np\n",
    "import os\n",
    "\n",
    "# To plot pretty figures\n",
    "%matplotlib inline\n",
    "import matplotlib as mpl\n",
    "import matplotlib.pyplot as plt\n",
    "mpl.rc('axes', labelsize=14)\n",
    "mpl.rc('xtick', labelsize=12)\n",
    "mpl.rc('ytick', labelsize=12)\n",
    "\n",
    "# Where to save the figures\n",
    "PROJECT_ROOT_DIR = \".\"\n",
    "CHAPTER_ID = \"A1result\"\n",
    "IMAGES_PATH = os.path.join(PROJECT_ROOT_DIR, \"groupAss1\", CHAPTER_ID)\n",
    "print(IMAGES_PATH)\n",
    "\n",
    "def save_fig(fig_id, tight_layout=True, fig_extension=\"png\", resolution=300):\n",
    "    path = os.path.join(IMAGES_PATH, fig_id + \".\" + fig_extension)\n",
    "    print(\"Saving figure\", fig_id)\n",
    "    if tight_layout:\n",
    "        plt.tight_layout()\n",
    "    plt.savefig(path, format=fig_extension, dpi=resolution)\n",
    "\n",
    "# Ignore useless warnings (see SciPy issue #5998)\n",
    "import warnings\n",
    "warnings.filterwarnings(action=\"ignore\", message=\"^internal gelsd\")\n"
   ]
  },
  {
   "cell_type": "code",
   "execution_count": 2,
   "id": "82f5fa87",
   "metadata": {},
   "outputs": [
    {
     "name": "stdout",
     "output_type": "stream",
     "text": [
      "<class 'pandas.core.frame.DataFrame'>\n",
      "RangeIndex: 35040 entries, 0 to 35039\n",
      "Data columns (total 11 columns):\n",
      " #   Column                                Non-Null Count  Dtype  \n",
      "---  ------                                --------------  -----  \n",
      " 0   date                                  35040 non-null  object \n",
      " 1   Usage_kWh                             35040 non-null  float64\n",
      " 2   Lagging_Current_Reactive.Power_kVarh  35040 non-null  float64\n",
      " 3   Leading_Current_Reactive_Power_kVarh  35040 non-null  float64\n",
      " 4   CO2(tCO2)                             35040 non-null  float64\n",
      " 5   Lagging_Current_Power_Factor          35040 non-null  float64\n",
      " 6   Leading_Current_Power_Factor          35040 non-null  float64\n",
      " 7   NSM                                   35040 non-null  int64  \n",
      " 8   WeekStatus                            35040 non-null  object \n",
      " 9   Day_of_week                           35040 non-null  object \n",
      " 10  Load_Type                             35040 non-null  object \n",
      "dtypes: float64(6), int64(1), object(4)\n",
      "memory usage: 2.9+ MB\n"
     ]
    }
   ],
   "source": [
    "import pandas as pd\n",
    "steel = pd.read_csv(\"Steel_industry_data.csv\")\n",
    "steel.info()"
   ]
  },
  {
   "cell_type": "markdown",
   "id": "c12f9297",
   "metadata": {},
   "source": [
    "# split data into train and test sets using stratified Sampling"
   ]
  },
  {
   "cell_type": "code",
   "execution_count": 3,
   "id": "fe276bd9",
   "metadata": {},
   "outputs": [],
   "source": [
    "from sklearn.model_selection import StratifiedShuffleSplit\n",
    "\n",
    "split_ratio = 1/5 # 1 part test , 4 part train \n",
    "split = StratifiedShuffleSplit(\n",
    " n_splits=1,\n",
    " test_size=split_ratio,\n",
    " random_state=42\n",
    ")\n",
    "\n",
    "for train_index, test_index in split.split(steel,steel[\"Load_Type\"]):\n",
    "    train_set=steel.loc[train_index]\n",
    "    test_set=steel.loc[test_index]"
   ]
  },
  {
   "cell_type": "markdown",
   "id": "e3c00bed",
   "metadata": {},
   "source": [
    "# Verify split resulted in representative sampling "
   ]
  },
  {
   "cell_type": "code",
   "execution_count": 4,
   "id": "36ff0052",
   "metadata": {},
   "outputs": [
    {
     "data": {
      "image/png": "[encoded data removed]",
      "text/plain": [
       "<Figure size 648x216 with 3 Axes>"
      ]
     },
     "metadata": {
      "needs_background": "light"
     },
     "output_type": "display_data"
    }
   ],
   "source": [
    "import matplotlib.pyplot as plt\n",
    "\n",
    "plt.rcParams[\"figure.figsize\"] = (9, 3)\n",
    "plt.subplot(1, 3, 1).set_title(\"Full Data Set\")\n",
    "plt.hist(steel[\"Load_Type\"])\n",
    "plt.subplot(1, 3, 2).set_title(\"Training Set\")\n",
    "plt.hist(train_set[\"Load_Type\"])\n",
    "plt.subplot(1, 3, 3).set_title(\"Test Set\")\n",
    "plt.hist(test_set[\"Load_Type\"])\n",
    "plt.tight_layout()\n",
    "plt.show()"
   ]
  },
  {
   "cell_type": "markdown",
   "id": "ca1e323c",
   "metadata": {},
   "source": [
    "find interesting attribute correlations "
   ]
  },
  {
   "cell_type": "code",
   "execution_count": 5,
   "id": "5bcee6a8",
   "metadata": {},
   "outputs": [],
   "source": [
    "try:\n",
    "    from sklearn.preprocessing import OrdinalEncoder\n",
    "except ImportError:\n",
    "    from future_encoders import OrdinalEncoder # Scikit-Learn < 0.20"
   ]
  },
  {
   "cell_type": "code",
   "execution_count": 6,
   "id": "8d0206db",
   "metadata": {},
   "outputs": [
    {
     "data": {
      "text/plain": [
       "array([[0.],\n",
       "       [0.],\n",
       "       [0.],\n",
       "       [0.],\n",
       "       [0.],\n",
       "       [0.],\n",
       "       [0.],\n",
       "       [0.],\n",
       "       [0.],\n",
       "       [0.]])"
      ]
     },
     "execution_count": 6,
     "metadata": {},
     "output_type": "execute_result"
    }
   ],
   "source": [
    "steel_cat=steel[['Load_Type']]\n",
    "ordinal_encoder = OrdinalEncoder()\n",
    "steel_cat_encoded = ordinal_encoder.fit_transform(steel_cat)\n",
    "steel_cat_encoded[:10]"
   ]
  },
  {
   "cell_type": "code",
   "execution_count": 7,
   "id": "6c7eef80",
   "metadata": {},
   "outputs": [
    {
     "data": {
      "text/plain": [
       "[array(['Light_Load', 'Maximum_Load', 'Medium_Load'], dtype=object)]"
      ]
     },
     "execution_count": 7,
     "metadata": {},
     "output_type": "execute_result"
    }
   ],
   "source": [
    "ordinal_encoder.categories_"
   ]
  },
  {
   "cell_type": "code",
   "execution_count": 8,
   "id": "e2c5cb35",
   "metadata": {},
   "outputs": [
    {
     "data": {
      "text/plain": [
       "<35040x3 sparse matrix of type '<class 'numpy.float64'>'\n",
       "\twith 35040 stored elements in Compressed Sparse Row format>"
      ]
     },
     "execution_count": 8,
     "metadata": {},
     "output_type": "execute_result"
    }
   ],
   "source": [
    "try:\n",
    "    from sklearn.preprocessing import OrdinalEncoder # just to raise an ImportError if Scikit-Learn < 0.20\n",
    "    from sklearn.preprocessing import OneHotEncoder\n",
    "except ImportError:\n",
    "    from future_encoders import OneHotEncoder # Scikit-Learn < 0.20\n",
    "\n",
    "cat_encoder = OneHotEncoder()\n",
    "steel_cat_1hot = cat_encoder.fit_transform(steel_cat)\n",
    "steel_cat_1hot"
   ]
  },
  {
   "cell_type": "code",
   "execution_count": 9,
   "id": "98831532",
   "metadata": {},
   "outputs": [
    {
     "data": {
      "text/plain": [
       "array([[1., 0., 0.],\n",
       "       [1., 0., 0.],\n",
       "       [1., 0., 0.],\n",
       "       ...,\n",
       "       [1., 0., 0.],\n",
       "       [1., 0., 0.],\n",
       "       [1., 0., 0.]])"
      ]
     },
     "execution_count": 9,
     "metadata": {},
     "output_type": "execute_result"
    }
   ],
   "source": [
    "steel_cat_1hot.toarray()"
   ]
  },
  {
   "cell_type": "code",
   "execution_count": 10,
   "id": "b1df4421",
   "metadata": {},
   "outputs": [
    {
     "data": {
      "text/plain": [
       "[array(['Light_Load', 'Maximum_Load', 'Medium_Load'], dtype=object)]"
      ]
     },
     "execution_count": 10,
     "metadata": {},
     "output_type": "execute_result"
    }
   ],
   "source": [
    "cat_encoder.categories_"
   ]
  },
  {
   "cell_type": "code",
   "execution_count": 11,
   "id": "356b2eb3",
   "metadata": {},
   "outputs": [
    {
     "data": {
      "text/plain": [
       "Usage_kWh                               1.000000\n",
       "CO2(tCO2)                               0.988180\n",
       "Lagging_Current_Reactive.Power_kVarh    0.896150\n",
       "Load_Type                               0.614570\n",
       "Lagging_Current_Power_Factor            0.385960\n",
       "Leading_Current_Power_Factor            0.353566\n",
       "NSM                                     0.234610\n",
       "Leading_Current_Reactive_Power_kVarh   -0.324922\n",
       "Name: Usage_kWh, dtype: float64"
      ]
     },
     "execution_count": 11,
     "metadata": {},
     "output_type": "execute_result"
    }
   ],
   "source": [
    "steel[\"Load_Type\"] = pd.factorize(steel[\"Load_Type\"])[0].astype(np.uint16)\n",
    "corr_matrix=steel.corr()\n",
    "corr_matrix[\"Usage_kWh\"].sort_values(ascending=False)"
   ]
  },
  {
   "cell_type": "code",
   "execution_count": 12,
   "id": "2d6792ba",
   "metadata": {},
   "outputs": [
    {
     "data": {
      "text/plain": [
       "CO2(tCO2)                               1.000000\n",
       "Usage_kWh                               0.988180\n",
       "Lagging_Current_Reactive.Power_kVarh    0.886948\n",
       "Load_Type                               0.610653\n",
       "Lagging_Current_Power_Factor            0.379605\n",
       "Leading_Current_Power_Factor            0.360019\n",
       "NSM                                     0.231726\n",
       "Leading_Current_Reactive_Power_kVarh   -0.332777\n",
       "Name: CO2(tCO2), dtype: float64"
      ]
     },
     "execution_count": 12,
     "metadata": {},
     "output_type": "execute_result"
    }
   ],
   "source": [
    "corr_matrix[\"CO2(tCO2)\"].sort_values(ascending=False)"
   ]
  },
  {
   "cell_type": "code",
   "execution_count": 13,
   "id": "a90c9c6f",
   "metadata": {},
   "outputs": [
    {
     "data": {
      "text/plain": [
       "Load_Type                               1.000000\n",
       "Usage_kWh                               0.614570\n",
       "CO2(tCO2)                               0.610653\n",
       "Lagging_Current_Power_Factor            0.519189\n",
       "NSM                                     0.482767\n",
       "Lagging_Current_Reactive.Power_kVarh    0.451899\n",
       "Leading_Current_Power_Factor            0.075394\n",
       "Leading_Current_Reactive_Power_kVarh    0.001776\n",
       "Name: Load_Type, dtype: float64"
      ]
     },
     "execution_count": 13,
     "metadata": {},
     "output_type": "execute_result"
    }
   ],
   "source": [
    "corr_matrix[\"Load_Type\"].sort_values(ascending=False)"
   ]
  },
  {
   "cell_type": "code",
   "execution_count": 14,
   "id": "ad00815c",
   "metadata": {},
   "outputs": [
    {
     "data": {
      "text/plain": [
       "Lagging_Current_Reactive.Power_kVarh    1.000000\n",
       "Usage_kWh                               0.896150\n",
       "CO2(tCO2)                               0.886948\n",
       "Load_Type                               0.451899\n",
       "Leading_Current_Power_Factor            0.407716\n",
       "Lagging_Current_Power_Factor            0.144534\n",
       "NSM                                     0.082662\n",
       "Leading_Current_Reactive_Power_kVarh   -0.405142\n",
       "Name: Lagging_Current_Reactive.Power_kVarh, dtype: float64"
      ]
     },
     "execution_count": 14,
     "metadata": {},
     "output_type": "execute_result"
    }
   ],
   "source": [
    "corr_matrix[\"Lagging_Current_Reactive.Power_kVarh\"].sort_values(ascending=False)"
   ]
  },
  {
   "cell_type": "markdown",
   "id": "b2895cbe",
   "metadata": {},
   "source": [
    "we can find that Usage_kWh, CO2(tCO2),and Lagging_Current_Reactive.Power_kVarh, \n",
    "have very high relationship with the load_type(Steel_cat)"
   ]
  },
  {
   "cell_type": "code",
   "execution_count": 15,
   "id": "bbe41edd",
   "metadata": {},
   "outputs": [],
   "source": [
    "train_copy = train_set.copy()\n"
   ]
  },
  {
   "cell_type": "code",
   "execution_count": 16,
   "id": "e887f4b2",
   "metadata": {},
   "outputs": [
    {
     "data": {
      "text/plain": [
       "steelcor_avg                            1.000000\n",
       "Usage_kWh                               0.988758\n",
       "CO2(tCO2)                               0.977617\n",
       "Lagging_Current_Reactive.Power_kVarh    0.951770\n",
       "Leading_Current_Power_Factor            0.380057\n",
       "Lagging_Current_Power_Factor            0.314395\n",
       "NSM                                     0.189260\n",
       "Leading_Current_Reactive_Power_kVarh   -0.359228\n",
       "Name: steelcor_avg, dtype: float64"
      ]
     },
     "execution_count": 16,
     "metadata": {},
     "output_type": "execute_result"
    }
   ],
   "source": [
    "train_copy['steelcor_avg']= (\n",
    "     train_copy['Usage_kWh']+\n",
    "     train_copy['CO2(tCO2)']+\n",
    "     train_copy['Lagging_Current_Reactive.Power_kVarh'])/3\n",
    "avg_steelcor_corr=train_copy.corr()['steelcor_avg'].sort_values(ascending=False)\n",
    "avg_steelcor_corr.head(10)\n"
   ]
  },
  {
   "cell_type": "code",
   "execution_count": 17,
   "id": "cdb18bc3",
   "metadata": {},
   "outputs": [
    {
     "data": {
      "text/plain": [
       "steelcor_avg                            1.000000\n",
       "Usage_kWh                               0.988758\n",
       "CO2(tCO2)                               0.977617\n",
       "Lagging_Current_Reactive.Power_kVarh    0.951770\n",
       "Leading_Current_Power_Factor            0.380057\n",
       "Lagging_Current_Power_Factor            0.314395\n",
       "NSM                                     0.189260\n",
       "Leading_Current_Reactive_Power_kVarh   -0.359228\n",
       "Name: steelcor_avg, dtype: float64"
      ]
     },
     "execution_count": 17,
     "metadata": {},
     "output_type": "execute_result"
    }
   ],
   "source": [
    "avg_steelcor_corr.tail(10)"
   ]
  },
  {
   "cell_type": "markdown",
   "id": "49c625cf",
   "metadata": {},
   "source": [
    "# Prepare Data for Machining Learning Algorithms"
   ]
  },
  {
   "cell_type": "code",
   "execution_count": 18,
   "id": "f411fc45",
   "metadata": {},
   "outputs": [],
   "source": [
    "train_features = train_set.drop(['date','WeekStatus','Day_of_week','Load_Type'], axis=1)\n",
    "train_labels = train_set.Load_Type\n",
    "\n",
    "test_features = test_set.drop(['date','WeekStatus','Day_of_week','Load_Type'], axis=1)\n",
    "test_labels = test_set.Load_Type"
   ]
  },
  {
   "cell_type": "code",
   "execution_count": 19,
   "id": "c938f4d4",
   "metadata": {},
   "outputs": [
    {
     "name": "stdout",
     "output_type": "stream",
     "text": [
      "there is no missing\n"
     ]
    }
   ],
   "source": [
    "#check for missing values\n",
    "if steel.isnull().values.any():\n",
    "    print(\"there are missing values\")\n",
    "else:\n",
    "    print(\"there is no missing\")\n",
    "\n",
    "    \n",
    "# as no missing so did not need imputer "
   ]
  },
  {
   "cell_type": "markdown",
   "id": "9e700366",
   "metadata": {},
   "source": [
    "# Create a pipeline to transform data before they are passed to models"
   ]
  },
  {
   "cell_type": "code",
   "execution_count": 20,
   "id": "e7ca6d32",
   "metadata": {},
   "outputs": [],
   "source": [
    "from sklearn.base import BaseEstimator, TransformerMixin\n",
    "\n",
    "class AttributeAdder(BaseEstimator, TransformerMixin):       \n",
    "   steelcorr_cols = ['Usage_kWh', 'Lagging_Current_Reactive.Power_kVarh', 'CO2(tCO2)']\n",
    "    \n",
    "   def __init__(self, add_avg_steelcor=True):\n",
    "        self.add_avg_steelcor = add_avg_steelcor\n",
    "    \n",
    "   def fit(self, steel, y=None):\n",
    "        return self\n",
    "    \n",
    "   def transform(self, steel, y=None):\n",
    "        steel_ = steel.copy()\n",
    "        if self.add_avg_steelcor:\n",
    "            steel_['steelcor_avg'] = steel_[self.__class__.steelcorr_cols].mean(axis=1)\n",
    "        return steel_\n",
    "\n",
    "from sklearn.preprocessing import MinMaxScaler\n",
    "from sklearn.pipeline import Pipeline\n",
    "\n",
    "pipeline = Pipeline([\n",
    "    ('attr_adder', AttributeAdder()),\n",
    "    ('scaler', MinMaxScaler())\n",
    "])\n",
    "\n",
    "train_data = pipeline.fit_transform(train_features)\n",
    "test_data = pipeline.fit_transform(test_features)"
   ]
  },
  {
   "cell_type": "markdown",
   "id": "d9797f78",
   "metadata": {},
   "source": [
    "3 model"
   ]
  },
  {
   "cell_type": "code",
   "execution_count": 21,
   "id": "94b0dc67",
   "metadata": {},
   "outputs": [],
   "source": [
    "from sklearn.metrics import confusion_matrix\n",
    "from sklearn.metrics import accuracy_score\n",
    "\n",
    "def print_prediction_result(predicted_classes, actual_classes):\n",
    "    print('confusion matrix:')\n",
    "    print(confusion_matrix(actual_classes, predicted_classes))\n",
    "    print()\n",
    "    print('accuracy: ', accuracy_score(predicted_classes, actual_classes))"
   ]
  },
  {
   "cell_type": "code",
   "execution_count": 22,
   "id": "7d3a01e4",
   "metadata": {},
   "outputs": [],
   "source": [
    "#make the train data to 2 part one for train one for test for the train\n",
    "pre_train_data=train_data[:20000]\n",
    "pre_train_labels=train_labels[:20000]\n",
    "pre_test_data=train_data[20000:]\n",
    "pre_test_labels=train_labels[20000:]"
   ]
  },
  {
   "cell_type": "markdown",
   "id": "e438d556",
   "metadata": {},
   "source": [
    "# Try DecisionTree Classifier "
   ]
  },
  {
   "cell_type": "code",
   "execution_count": 23,
   "id": "91df0354",
   "metadata": {},
   "outputs": [
    {
     "name": "stdout",
     "output_type": "stream",
     "text": [
      "confusion matrix:\n",
      "[[3919   55  193]\n",
      " [   7 1597   88]\n",
      " [ 173  752 1248]]\n",
      "\n",
      "accuracy:  0.8421314741035857\n"
     ]
    }
   ],
   "source": [
    "from sklearn.tree import DecisionTreeClassifier\n",
    "\n",
    "dt = DecisionTreeClassifier(criterion=\"entropy\", max_depth=6, random_state=42)\n",
    "dt.fit(pre_train_data, pre_train_labels)\n",
    "prediction = dt.predict(pre_test_data)\n",
    "\n",
    "print_prediction_result(prediction, pre_test_labels)"
   ]
  },
  {
   "cell_type": "code",
   "execution_count": 24,
   "id": "5e79c0b8",
   "metadata": {
    "scrolled": true
   },
   "outputs": [
    {
     "name": "stdout",
     "output_type": "stream",
     "text": [
      "confusion matrix:\n",
      "[[9731  116  443]\n",
      " [  13 3940  173]\n",
      " [ 388 2028 3168]]\n",
      "\n",
      "accuracy:  0.84195\n"
     ]
    }
   ],
   "source": [
    "# check for overfitting\n",
    "prediction = dt.predict(pre_train_data)\n",
    "print_prediction_result(prediction, pre_train_labels)"
   ]
  },
  {
   "cell_type": "markdown",
   "id": "dc0c5277",
   "metadata": {},
   "source": [
    "# RandomForestClassifier"
   ]
  },
  {
   "cell_type": "code",
   "execution_count": 25,
   "id": "d65e108e",
   "metadata": {},
   "outputs": [
    {
     "name": "stdout",
     "output_type": "stream",
     "text": [
      "confusion matrix:\n",
      "[[3965   11  191]\n",
      " [  66 1356  270]\n",
      " [ 293  577 1303]]\n",
      "\n",
      "accuracy:  0.8247011952191236\n"
     ]
    }
   ],
   "source": [
    "from sklearn.ensemble import RandomForestClassifier\n",
    "\n",
    "rf = RandomForestClassifier(n_estimators=150, max_depth=5, criterion='gini', random_state=42, n_jobs=-1)\n",
    "rf.fit(pre_train_data, pre_train_labels)\n",
    "prediction = rf.predict(pre_test_data)\n",
    "\n",
    "print_prediction_result(prediction, pre_test_labels)"
   ]
  },
  {
   "cell_type": "code",
   "execution_count": 26,
   "id": "dfd4207c",
   "metadata": {},
   "outputs": [
    {
     "name": "stdout",
     "output_type": "stream",
     "text": [
      "confusion matrix:\n",
      "[[9841   37  412]\n",
      " [ 133 3289  704]\n",
      " [ 679 1553 3352]]\n",
      "\n",
      "accuracy:  0.8241\n"
     ]
    }
   ],
   "source": [
    "# check for overfitting\n",
    "prediction = rf.predict(pre_train_data)\n",
    "print_prediction_result(prediction, pre_train_labels)"
   ]
  },
  {
   "cell_type": "markdown",
   "id": "c43fa6f3",
   "metadata": {},
   "source": [
    "# Naive Bayes Classifier"
   ]
  },
  {
   "cell_type": "code",
   "execution_count": 29,
   "id": "0df2db36",
   "metadata": {},
   "outputs": [
    {
     "name": "stdout",
     "output_type": "stream",
     "text": [
      "confusion matrix:\n",
      "[[3836  176  155]\n",
      " [ 559 1095   38]\n",
      " [ 943  858  372]]\n",
      "\n",
      "accuracy:  0.6602340637450199\n"
     ]
    }
   ],
   "source": [
    "from sklearn.naive_bayes import GaussianNB\n",
    "\n",
    "gnb = GaussianNB(var_smoothing=20e-1)\n",
    "gnb.fit(pre_train_data, pre_train_labels)\n",
    "prediction = gnb.predict(pre_test_data)\n",
    "\n",
    "print_prediction_result(prediction, pre_test_labels)"
   ]
  },
  {
   "cell_type": "code",
   "execution_count": 30,
   "id": "50fa7771",
   "metadata": {},
   "outputs": [
    {
     "name": "stdout",
     "output_type": "stream",
     "text": [
      "confusion matrix:\n",
      "[[9349  539  402]\n",
      " [1288 2723  115]\n",
      " [2343 2269  972]]\n",
      "\n",
      "accuracy:  0.6522\n"
     ]
    }
   ],
   "source": [
    "# check for overfitting\n",
    "prediction = gnb.predict(pre_train_data)\n",
    "print_prediction_result(prediction, pre_train_labels)"
   ]
  },
  {
   "cell_type": "markdown",
   "id": "5de883a1",
   "metadata": {},
   "source": [
    "# FINE-TUNE The Model  GridSearchCV use for RandomForestClassifier"
   ]
  },
  {
   "cell_type": "code",
   "execution_count": 31,
   "id": "ae45e0e7",
   "metadata": {},
   "outputs": [
    {
     "name": "stdout",
     "output_type": "stream",
     "text": [
      "{'criterion': 'gini', 'max_depth': 7, 'max_features': 'auto', 'n_estimators': 100}\n",
      "0.8627996575342466\n"
     ]
    }
   ],
   "source": [
    "from sklearn.model_selection import GridSearchCV\n",
    "\n",
    "param_space = [\n",
    "    {\n",
    "        'n_estimators':[100, 300, 500],\n",
    "        \"criterion\": [\"gini\", \"entropy\"],\n",
    "        'max_depth': [5, 7],\n",
    "        'max_features':['auto', 'sqrt']\n",
    "    }\n",
    "]\n",
    "\n",
    "grid_search = GridSearchCV(\n",
    "    RandomForestClassifier(),\n",
    "    param_space,\n",
    "    cv=3,\n",
    "    n_jobs=-1\n",
    ")\n",
    "grid_search.fit(train_data,train_labels)\n",
    "\n",
    "best_rf = grid_search.best_estimator_\n",
    "print(grid_search.best_params_)\n",
    "print(grid_search.best_score_)"
   ]
  },
  {
   "cell_type": "code",
   "execution_count": 32,
   "id": "61c172c9",
   "metadata": {},
   "outputs": [
    {
     "name": "stdout",
     "output_type": "stream",
     "text": [
      "confusion matrix:\n",
      "[[9887   35  368]\n",
      " [  44 3347  735]\n",
      " [ 397 1007 4180]]\n",
      "\n",
      "accuracy:  0.8707\n"
     ]
    }
   ],
   "source": [
    "# check for overfitting\n",
    "prediction = grid_search.predict(pre_train_data)\n",
    "print_prediction_result(prediction, pre_train_labels)"
   ]
  },
  {
   "cell_type": "markdown",
   "id": "a97449c1",
   "metadata": {},
   "source": [
    "# tunning decision tree"
   ]
  },
  {
   "cell_type": "code",
   "execution_count": 33,
   "id": "c64fdb15",
   "metadata": {},
   "outputs": [
    {
     "name": "stdout",
     "output_type": "stream",
     "text": [
      "{'criterion': 'entropy', 'max_depth': 13, 'min_samples_leaf': 3}\n",
      "0.8861658105022832\n"
     ]
    }
   ],
   "source": [
    "# tuning the Decision Tree model\n",
    "\n",
    "# instantiate the DecisionTreeClassifier() model\n",
    "dtc2 = DecisionTreeClassifier(random_state=42)\n",
    "\n",
    "# set the hyperparameters for the gridsearchcv to choose the best one\n",
    "dtc_param = { \n",
    "              \"criterion\": [\"gini\", \"entropy\"],\n",
    "              \"max_depth\": [6, 9, 13],\n",
    "              \"min_samples_leaf\": [1, 2, 3]\n",
    "             }\n",
    "\n",
    "# using gridsearchcv to get the best hyperparameter\n",
    "dtc_gscv = GridSearchCV(estimator=dtc2, param_grid=dtc_param, cv=3, n_jobs=-1)\n",
    "\n",
    "# fit the model with X_train and y_train\n",
    "dtc_gscv.fit(train_data, train_labels)\n",
    "\n",
    "# check the best performance of parameters\n",
    "print(dtc_gscv.best_params_)\n",
    "\n",
    "# print out the result\n",
    "print(dtc_gscv.best_score_)"
   ]
  },
  {
   "cell_type": "code",
   "execution_count": 34,
   "id": "586142c5",
   "metadata": {},
   "outputs": [
    {
     "name": "stdout",
     "output_type": "stream",
     "text": [
      "confusion matrix:\n",
      "[[10079    30   181]\n",
      " [   24  3499   603]\n",
      " [  291   681  4612]]\n",
      "\n",
      "accuracy:  0.9095\n"
     ]
    }
   ],
   "source": [
    "# check for overfitting\n",
    "prediction = dtc_gscv.predict(pre_train_data)\n",
    "print_prediction_result(prediction, pre_train_labels)"
   ]
  },
  {
   "cell_type": "markdown",
   "id": "e7284b1c",
   "metadata": {},
   "source": [
    "# tunning naive bayes"
   ]
  },
  {
   "cell_type": "code",
   "execution_count": 35,
   "id": "1a254195",
   "metadata": {},
   "outputs": [
    {
     "name": "stdout",
     "output_type": "stream",
     "text": [
      "{'var_smoothing': 0.0011513953993264468}\n",
      "0.691138698630137\n"
     ]
    }
   ],
   "source": [
    "# instantiate the GaussianNB() model\n",
    "nbc2 = GaussianNB()\n",
    "\n",
    "# set the hyperparameters for the gridsearchcv to choose the best one\n",
    "# use var_smoothing as the hyperparameter\n",
    "params = {'var_smoothing': np.logspace(0,-9, num=50)}\n",
    "\n",
    "# using gridsearchcv to get the best hyperparameter\n",
    "nbc2_gscv = GridSearchCV(estimator=nbc2, param_grid=params, cv=3, n_jobs=-1, scoring='accuracy') \n",
    "\n",
    "# fit the model with X_train and y_train\n",
    "nbc2_gscv.fit(train_data, train_labels)\n",
    "\n",
    "# check the best performance of parameters\n",
    "print(nbc2_gscv.best_params_)\n",
    "\n",
    "# print out the result\n",
    "print(nbc2_gscv.best_score_)"
   ]
  },
  {
   "cell_type": "code",
   "execution_count": 36,
   "id": "bd5c609b",
   "metadata": {},
   "outputs": [
    {
     "name": "stdout",
     "output_type": "stream",
     "text": [
      "confusion matrix:\n",
      "[[8324  781 1185]\n",
      " [ 341 3438  347]\n",
      " [ 869 2686 2029]]\n",
      "\n",
      "accuracy:  0.68955\n"
     ]
    }
   ],
   "source": [
    "# check for overfitting\n",
    "# using X_train to do predict and compare with X_test result\n",
    "prediction = nbc2_gscv.predict(pre_train_data)\n",
    "\n",
    "# check our models performance\n",
    "print_prediction_result(prediction, pre_train_labels)"
   ]
  },
  {
   "cell_type": "markdown",
   "id": "bbfd6e87",
   "metadata": {},
   "source": [
    "# Evaluation Random Forest Performance "
   ]
  },
  {
   "cell_type": "code",
   "execution_count": 37,
   "id": "1207fa29",
   "metadata": {},
   "outputs": [
    {
     "name": "stdout",
     "output_type": "stream",
     "text": [
      "confusion matrix:\n",
      "[[3471    2  142]\n",
      " [  80 1168  206]\n",
      " [ 354  286 1299]]\n",
      "\n",
      "accuracy:  0.8473173515981736\n"
     ]
    }
   ],
   "source": [
    "best_rf = RandomForestClassifier(\n",
    "    n_estimators=60, \n",
    "    criterion='entropy',\n",
    "    max_features=4\n",
    ")\n",
    "\n",
    "best_rf.fit(train_data, train_labels)\n",
    "prediction = best_rf.predict(test_data)\n",
    "\n",
    "print_prediction_result(prediction, test_labels)"
   ]
  },
  {
   "cell_type": "markdown",
   "id": "fb2553b2",
   "metadata": {},
   "source": [
    "# Evaluation decision_tree"
   ]
  },
  {
   "cell_type": "code",
   "execution_count": 38,
   "id": "886aaa18",
   "metadata": {},
   "outputs": [
    {
     "name": "stdout",
     "output_type": "stream",
     "text": [
      "confusion matrix:\n",
      "[[3350    2  263]\n",
      " [  60 1118  276]\n",
      " [ 244  259 1436]]\n",
      "\n",
      "accuracy:  0.8424657534246576\n"
     ]
    }
   ],
   "source": [
    "best_rf = DecisionTreeClassifier(\n",
    "    criterion=  'entropy',\n",
    "    max_depth= 18,\n",
    "   min_samples_leaf= 18,\n",
    "    random_state=42\n",
    ")\n",
    "\n",
    "best_rf.fit(train_data, train_labels)\n",
    "prediction = best_rf.predict(test_data)\n",
    "\n",
    "print_prediction_result(prediction, test_labels)"
   ]
  },
  {
   "cell_type": "markdown",
   "id": "24e37b2e",
   "metadata": {},
   "source": [
    "# Evaluation naive bayes"
   ]
  },
  {
   "cell_type": "code",
   "execution_count": 39,
   "id": "d9b639f6",
   "metadata": {},
   "outputs": [
    {
     "name": "stdout",
     "output_type": "stream",
     "text": [
      "confusion matrix:\n",
      "[[2954  175  486]\n",
      " [ 118 1190  146]\n",
      " [ 276  922  741]]\n",
      "\n",
      "accuracy:  0.697060502283105\n"
     ]
    }
   ],
   "source": [
    "best_rf = GaussianNB(\n",
    "    var_smoothing= 0.0026826957952797246\n",
    ")\n",
    "\n",
    "best_rf.fit(train_data, train_labels)\n",
    "prediction = best_rf.predict(test_data)\n",
    "\n",
    "print_prediction_result(prediction, test_labels)"
   ]
  },
  {
   "cell_type": "code",
   "execution_count": null,
   "id": "4537276e",
   "metadata": {},
   "outputs": [],
   "source": []
  },
  {
   "cell_type": "code",
   "execution_count": null,
   "id": "40a465d3",
   "metadata": {},
   "outputs": [],
   "source": []
  },
  {
   "cell_type": "code",
   "execution_count": null,
   "id": "eb03b021",
   "metadata": {},
   "outputs": [],
   "source": []
  }
 ],
 "metadata": {
  "kernelspec": {
   "display_name": "Python 3 (ipykernel)",
   "language": "python",
   "name": "python3"
  },
  "language_info": {
   "codemirror_mode": {
    "name": "ipython",
    "version": 3
   },
   "file_extension": ".py",
   "mimetype": "text/x-python",
   "name": "python",
   "nbconvert_exporter": "python",
   "pygments_lexer": "ipython3",
   "version": "3.9.7"
  }
 },
 "nbformat": 4,
 "nbformat_minor": 5
}
