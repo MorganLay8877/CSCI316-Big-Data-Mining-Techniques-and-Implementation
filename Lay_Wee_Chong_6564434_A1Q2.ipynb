{
 "cells": [
  {
   "cell_type": "code",
   "execution_count": 1,
   "id": "e8e809c7",
   "metadata": {},
   "outputs": [],
   "source": [
    "#import necessary functions, libraries and modules\n",
    "# note that decision_tree_functions and helper_functions functions are in the respective .py files\n",
    "import pandas as pd \n",
    "import numpy as np\n",
    "import collections\n",
    "import random\n",
    "from pprint import pprint\n",
    "import seaborn as sns\n",
    "from decision_tree_functions import decision_tree_algorithm, make_predictions, calculate_accuracy\n",
    "from helper_functions import generate_data, create_plot, train_test_split\n"
   ]
  },
  {
   "cell_type": "code",
   "execution_count": 2,
   "id": "f24e22f7",
   "metadata": {},
   "outputs": [],
   "source": [
    "# Open secondary_data without delimiter\n",
    "mushroom_DT = mushroom_DT = pd.read_csv(\"/Users/Morgan/Documents/316/MushroomDataset/secondary_data.csv\",sep=';',na_values='?')"
   ]
  },
  {
   "cell_type": "code",
   "execution_count": 3,
   "id": "d525ba4b",
   "metadata": {},
   "outputs": [
    {
     "data": {
      "text/html": [
       "<div>\n",
       "<style scoped>\n",
       "    .dataframe tbody tr th:only-of-type {\n",
       "        vertical-align: middle;\n",
       "    }\n",
       "\n",
       "    .dataframe tbody tr th {\n",
       "        vertical-align: top;\n",
       "    }\n",
       "\n",
       "    .dataframe thead th {\n",
       "        text-align: right;\n",
       "    }\n",
       "</style>\n",
       "<table border=\"1\" class=\"dataframe\">\n",
       "  <thead>\n",
       "    <tr style=\"text-align: right;\">\n",
       "      <th></th>\n",
       "      <th>class</th>\n",
       "      <th>cap-shape</th>\n",
       "      <th>cap-surface</th>\n",
       "      <th>cap-color</th>\n",
       "      <th>does-bruise-or-bleed</th>\n",
       "      <th>gill-attachment</th>\n",
       "      <th>gill-spacing</th>\n",
       "      <th>gill-color</th>\n",
       "      <th>stem-root</th>\n",
       "      <th>stem-surface</th>\n",
       "      <th>stem-color</th>\n",
       "      <th>veil-type</th>\n",
       "      <th>veil-color</th>\n",
       "      <th>has-ring</th>\n",
       "      <th>ring-type</th>\n",
       "      <th>spore-print-color</th>\n",
       "      <th>habitat</th>\n",
       "      <th>season</th>\n",
       "    </tr>\n",
       "  </thead>\n",
       "  <tbody>\n",
       "    <tr>\n",
       "      <th>0</th>\n",
       "      <td>p</td>\n",
       "      <td>x</td>\n",
       "      <td>g</td>\n",
       "      <td>o</td>\n",
       "      <td>f</td>\n",
       "      <td>e</td>\n",
       "      <td>NaN</td>\n",
       "      <td>w</td>\n",
       "      <td>s</td>\n",
       "      <td>y</td>\n",
       "      <td>w</td>\n",
       "      <td>u</td>\n",
       "      <td>w</td>\n",
       "      <td>t</td>\n",
       "      <td>g</td>\n",
       "      <td>NaN</td>\n",
       "      <td>d</td>\n",
       "      <td>w</td>\n",
       "    </tr>\n",
       "    <tr>\n",
       "      <th>1</th>\n",
       "      <td>p</td>\n",
       "      <td>x</td>\n",
       "      <td>g</td>\n",
       "      <td>o</td>\n",
       "      <td>f</td>\n",
       "      <td>e</td>\n",
       "      <td>NaN</td>\n",
       "      <td>w</td>\n",
       "      <td>s</td>\n",
       "      <td>y</td>\n",
       "      <td>w</td>\n",
       "      <td>u</td>\n",
       "      <td>w</td>\n",
       "      <td>t</td>\n",
       "      <td>g</td>\n",
       "      <td>NaN</td>\n",
       "      <td>d</td>\n",
       "      <td>u</td>\n",
       "    </tr>\n",
       "    <tr>\n",
       "      <th>2</th>\n",
       "      <td>p</td>\n",
       "      <td>x</td>\n",
       "      <td>g</td>\n",
       "      <td>o</td>\n",
       "      <td>f</td>\n",
       "      <td>e</td>\n",
       "      <td>NaN</td>\n",
       "      <td>w</td>\n",
       "      <td>s</td>\n",
       "      <td>y</td>\n",
       "      <td>w</td>\n",
       "      <td>u</td>\n",
       "      <td>w</td>\n",
       "      <td>t</td>\n",
       "      <td>g</td>\n",
       "      <td>NaN</td>\n",
       "      <td>d</td>\n",
       "      <td>w</td>\n",
       "    </tr>\n",
       "    <tr>\n",
       "      <th>3</th>\n",
       "      <td>p</td>\n",
       "      <td>f</td>\n",
       "      <td>h</td>\n",
       "      <td>e</td>\n",
       "      <td>f</td>\n",
       "      <td>e</td>\n",
       "      <td>NaN</td>\n",
       "      <td>w</td>\n",
       "      <td>s</td>\n",
       "      <td>y</td>\n",
       "      <td>w</td>\n",
       "      <td>u</td>\n",
       "      <td>w</td>\n",
       "      <td>t</td>\n",
       "      <td>p</td>\n",
       "      <td>NaN</td>\n",
       "      <td>d</td>\n",
       "      <td>w</td>\n",
       "    </tr>\n",
       "    <tr>\n",
       "      <th>4</th>\n",
       "      <td>p</td>\n",
       "      <td>x</td>\n",
       "      <td>h</td>\n",
       "      <td>o</td>\n",
       "      <td>f</td>\n",
       "      <td>e</td>\n",
       "      <td>NaN</td>\n",
       "      <td>w</td>\n",
       "      <td>s</td>\n",
       "      <td>y</td>\n",
       "      <td>w</td>\n",
       "      <td>u</td>\n",
       "      <td>w</td>\n",
       "      <td>t</td>\n",
       "      <td>p</td>\n",
       "      <td>NaN</td>\n",
       "      <td>d</td>\n",
       "      <td>w</td>\n",
       "    </tr>\n",
       "  </tbody>\n",
       "</table>\n",
       "</div>"
      ],
      "text/plain": [
       "  class cap-shape cap-surface cap-color does-bruise-or-bleed gill-attachment  \\\n",
       "0     p         x           g         o                    f               e   \n",
       "1     p         x           g         o                    f               e   \n",
       "2     p         x           g         o                    f               e   \n",
       "3     p         f           h         e                    f               e   \n",
       "4     p         x           h         o                    f               e   \n",
       "\n",
       "  gill-spacing gill-color stem-root stem-surface stem-color veil-type  \\\n",
       "0          NaN          w         s            y          w         u   \n",
       "1          NaN          w         s            y          w         u   \n",
       "2          NaN          w         s            y          w         u   \n",
       "3          NaN          w         s            y          w         u   \n",
       "4          NaN          w         s            y          w         u   \n",
       "\n",
       "  veil-color has-ring ring-type spore-print-color habitat season  \n",
       "0          w        t         g               NaN       d      w  \n",
       "1          w        t         g               NaN       d      u  \n",
       "2          w        t         g               NaN       d      w  \n",
       "3          w        t         p               NaN       d      w  \n",
       "4          w        t         p               NaN       d      w  "
      ]
     },
     "execution_count": 3,
     "metadata": {},
     "output_type": "execute_result"
    }
   ],
   "source": [
    "#Drop numerical columns\n",
    "mushroom_DT = mushroom_DT.drop(labels = ['cap-diameter', 'stem-height', 'stem-width'], axis=1) \n",
    "mushroom_DT.head()"
   ]
  },
  {
   "cell_type": "code",
   "execution_count": 4,
   "id": "97cc7812",
   "metadata": {},
   "outputs": [
    {
     "data": {
      "text/plain": [
       "class                       0\n",
       "cap-shape                   0\n",
       "cap-surface             14120\n",
       "cap-color                   0\n",
       "does-bruise-or-bleed        0\n",
       "gill-attachment          9884\n",
       "gill-spacing            25063\n",
       "gill-color                  0\n",
       "stem-root               51538\n",
       "stem-surface            38124\n",
       "stem-color                  0\n",
       "veil-type               57892\n",
       "veil-color              53656\n",
       "has-ring                    0\n",
       "ring-type                2471\n",
       "spore-print-color       54715\n",
       "habitat                     0\n",
       "season                      0\n",
       "dtype: int64"
      ]
     },
     "execution_count": 4,
     "metadata": {},
     "output_type": "execute_result"
    }
   ],
   "source": [
    "#check for null value\n",
    "mushroom_DT.isnull().sum()"
   ]
  },
  {
   "cell_type": "code",
   "execution_count": 5,
   "id": "a7db8b64",
   "metadata": {},
   "outputs": [],
   "source": [
    "#replace Null Value with f\n",
    "mushroom_DT = mushroom_DT [mushroom_DT.isnull().any(axis=1)]\n",
    "mushroom_DT = mushroom_DT.replace(np.nan, 'f', regex=True)"
   ]
  },
  {
   "cell_type": "code",
   "execution_count": 6,
   "id": "a772acae",
   "metadata": {},
   "outputs": [
    {
     "data": {
      "text/plain": [
       "class                   0\n",
       "cap-shape               0\n",
       "cap-surface             0\n",
       "cap-color               0\n",
       "does-bruise-or-bleed    0\n",
       "gill-attachment         0\n",
       "gill-spacing            0\n",
       "gill-color              0\n",
       "stem-root               0\n",
       "stem-surface            0\n",
       "stem-color              0\n",
       "veil-type               0\n",
       "veil-color              0\n",
       "has-ring                0\n",
       "ring-type               0\n",
       "spore-print-color       0\n",
       "habitat                 0\n",
       "season                  0\n",
       "dtype: int64"
      ]
     },
     "execution_count": 6,
     "metadata": {},
     "output_type": "execute_result"
    }
   ],
   "source": [
    "#check for null value again\n",
    "mushroom_DT.isnull().sum()"
   ]
  },
  {
   "cell_type": "code",
   "execution_count": 7,
   "id": "08385d0c",
   "metadata": {},
   "outputs": [],
   "source": [
    "#Function to spilt dataset into training set and test set\n",
    "def train_test_split(dt, test_size):\n",
    "    if isinstance(test_size, float):\n",
    "     test_size = round(test_size * len(dt))\n",
    "    \n",
    "    indices = dt.index.tolist()\n",
    "    test_indices = random.sample(population = indices, k = test_size)\n",
    "\n",
    "    test_df = dt.loc[test_indices]\n",
    "    train_df = dt.drop(test_indices)\n",
    "\n",
    "\n",
    "    return train_df, test_df"
   ]
  },
  {
   "cell_type": "code",
   "execution_count": 8,
   "id": "1befc02f",
   "metadata": {},
   "outputs": [],
   "source": [
    "#Spilt dataset into training set and test set 0.6 to 0.4\n",
    "train_df,test_df = train_test_split(mushroom_DT, test_size = 0.4)"
   ]
  },
  {
   "cell_type": "code",
   "execution_count": 9,
   "id": "a2256590",
   "metadata": {},
   "outputs": [
    {
     "name": "stdout",
     "output_type": "stream",
     "text": [
      "36641 24428\n",
      "<class 'pandas.core.frame.DataFrame'> <class 'pandas.core.frame.DataFrame'>\n"
     ]
    }
   ],
   "source": [
    "#check length of training and testing set\n",
    "print(len(train_df),len(test_df))\n",
    "print(type(train_df),type(test_df))"
   ]
  },
  {
   "cell_type": "code",
   "execution_count": 10,
   "id": "aa78b77b",
   "metadata": {},
   "outputs": [
    {
     "data": {
      "text/plain": [
       "array([['p', 'f', 'h', 'e', 'f', 'e', 'f', 'w', 's', 'y', 'w', 'u', 'w',\n",
       "        't', 'p', 'f', 'd', 'w'],\n",
       "       ['p', 'x', 'g', 'o', 'f', 'e', 'f', 'w', 's', 'y', 'w', 'u', 'w',\n",
       "        't', 'p', 'f', 'd', 'u'],\n",
       "       ['p', 'f', 'h', 'o', 'f', 'e', 'f', 'w', 's', 'y', 'w', 'u', 'w',\n",
       "        't', 'g', 'f', 'd', 'w'],\n",
       "       ['p', 'x', 'h', 'o', 'f', 'e', 'f', 'w', 's', 'y', 'w', 'u', 'w',\n",
       "        't', 'g', 'f', 'd', 'u'],\n",
       "       ['p', 'f', 'h', 'e', 'f', 'e', 'f', 'w', 's', 'y', 'w', 'u', 'w',\n",
       "        't', 'p', 'f', 'd', 'a']], dtype=object)"
      ]
     },
     "execution_count": 10,
     "metadata": {},
     "output_type": "execute_result"
    }
   ],
   "source": [
    "data=train_df.values\n",
    "data[:5]"
   ]
  },
  {
   "cell_type": "code",
   "execution_count": 11,
   "id": "07f3f7c3",
   "metadata": {},
   "outputs": [],
   "source": [
    "#function to check if the subtree contains only one label\n",
    "def check_label(tree):\n",
    "    labels=tree[:,0]\n",
    "    unique_labels=np.unique(labels)\n",
    "    \n",
    "    if len(unique_labels)==1:\n",
    "        return True\n",
    "    else:\n",
    "        return False"
   ]
  },
  {
   "cell_type": "code",
   "execution_count": 12,
   "id": "1a315f95",
   "metadata": {},
   "outputs": [],
   "source": [
    "#function to classify data label at the end of stopping criteria\n",
    "def classify(tree):\n",
    "    labels=tree[:,0]\n",
    "    unique_labels,count_unique=np.unique(labels,return_counts=True)\n",
    "    #print(unique_labels)\n",
    "    \n",
    "    max_value=count_unique.argmax()\n",
    "    \n",
    "    return unique_labels[max_value]"
   ]
  },
  {
   "cell_type": "code",
   "execution_count": 13,
   "id": "d34b9850",
   "metadata": {},
   "outputs": [],
   "source": [
    "#function to differentiate the features as continuous or categorical\n",
    "def type_features(data):\n",
    "    \n",
    "    feature_types = []\n",
    "    threshold = 15\n",
    "    for feature in data.columns:\n",
    "        if feature != \"class\":\n",
    "            unique_values = data[feature].unique()\n",
    "            example_value = unique_values[0]\n",
    "\n",
    "            if (isinstance(example_value, str)) or (len(unique_values) <= threshold):\n",
    "                feature_types.append(\"categorical\")\n",
    "            else:\n",
    "                feature_types.append(\"continuous\")\n",
    "    \n",
    "    return feature_types"
   ]
  },
  {
   "cell_type": "code",
   "execution_count": 14,
   "id": "bc8ca515",
   "metadata": {},
   "outputs": [],
   "source": [
    "#function to find all the possible split points in the tree\n",
    "def find_potential_splits(tree):\n",
    "    #dictionary to store a list of possible splits for every column in key value pair\n",
    "    potential_split_values={}\n",
    "    no_columns=(tree.shape)[1]\n",
    "    for column in range(0,no_columns):\n",
    "        #finding the possible splits for every column\n",
    "        column_data=tree[:,column]\n",
    "        unique_values=np.unique(column_data)\n",
    "        feature = unique_values.all()\n",
    "#Appending calculated split value to the list pointing to particular column\n",
    "        if feature == \"continuous\":\n",
    "            potential_split_values[column] = []\n",
    "            for index in range(len(unique_values)):\n",
    "                #calculating the midpoint between every 2 points\n",
    "                if index != 0:\n",
    "                    current_value = unique_values[index]\n",
    "                    previous_value = unique_values[index - 1]\n",
    "                    potential_split = (current_value + previous_value) / 2\n",
    "\n",
    "                    potential_split_values[column].append(potential_split)\n",
    "        \n",
    "        # feature is categorical\n",
    "        #more than one label must be present \n",
    "        elif len(unique_values) > 1:\n",
    "            potential_split_values[column] = unique_values\n",
    "      \n",
    "            \n",
    "    return potential_split_values\n",
    "                           "
   ]
  },
  {
   "cell_type": "code",
   "execution_count": 15,
   "id": "861f7bee",
   "metadata": {},
   "outputs": [
    {
     "data": {
      "text/plain": [
       "{0: array(['e', 'p'], dtype=object),\n",
       " 1: array(['b', 'c', 'f', 'o', 'p', 's', 'x'], dtype=object),\n",
       " 2: array(['d', 'e', 'f', 'g', 'h', 'i', 'k', 'l', 's', 't', 'w', 'y'],\n",
       "       dtype=object),\n",
       " 3: array(['b', 'e', 'g', 'k', 'l', 'n', 'o', 'p', 'r', 'u', 'w', 'y'],\n",
       "       dtype=object),\n",
       " 4: array(['f', 't'], dtype=object),\n",
       " 5: array(['a', 'd', 'e', 'f', 'p', 's', 'x'], dtype=object),\n",
       " 6: array(['c', 'd', 'f'], dtype=object),\n",
       " 7: array(['b', 'e', 'f', 'g', 'k', 'n', 'o', 'p', 'r', 'u', 'w', 'y'],\n",
       "       dtype=object),\n",
       " 8: array(['b', 'c', 'f', 'r', 's'], dtype=object),\n",
       " 9: array(['f', 'g', 'h', 'i', 'k', 's', 't', 'y'], dtype=object),\n",
       " 10: array(['b', 'e', 'f', 'g', 'k', 'l', 'n', 'o', 'p', 'r', 'u', 'w', 'y'],\n",
       "       dtype=object),\n",
       " 11: array(['f', 'u'], dtype=object),\n",
       " 12: array(['e', 'f', 'k', 'n', 'u', 'w', 'y'], dtype=object),\n",
       " 13: array(['f', 't'], dtype=object),\n",
       " 14: array(['e', 'f', 'g', 'l', 'm', 'p', 'r', 'z'], dtype=object),\n",
       " 15: array(['f', 'g', 'k', 'n', 'p', 'r', 'u', 'w'], dtype=object),\n",
       " 16: array(['d', 'g', 'h', 'l', 'm', 'p', 'u', 'w'], dtype=object),\n",
       " 17: array(['a', 's', 'u', 'w'], dtype=object)}"
      ]
     },
     "execution_count": 15,
     "metadata": {},
     "output_type": "execute_result"
    }
   ],
   "source": [
    "# test find_potential_splits function\n",
    "find_potential_splits(data)"
   ]
  },
  {
   "cell_type": "code",
   "execution_count": 16,
   "id": "388ffa85",
   "metadata": {},
   "outputs": [],
   "source": [
    "#function to split the tree into left and right subtree based on condition\n",
    "def split(tree,column,value):\n",
    "    column_data=tree[:,column]\n",
    "    \n",
    "    feature = column_data[column - 3]\n",
    "    if feature == \"continuous\":\n",
    "        #comparison for continuous data\n",
    "        left=tree[column_data<=value]\n",
    "        right=tree[column_data>value]\n",
    "    else:\n",
    "        #comparison for categorical data\n",
    "        left=tree[column_data==value]\n",
    "        right=tree[column_data!=value]\n",
    "    return left,right"
   ]
  },
  {
   "cell_type": "code",
   "execution_count": 17,
   "id": "2a0b788b",
   "metadata": {},
   "outputs": [
    {
     "data": {
      "text/plain": [
       "array([['p', 'f', 'h', ..., 'f', 'd', 'w'],\n",
       "       ['p', 'x', 'g', ..., 'f', 'd', 'u'],\n",
       "       ['p', 'f', 'h', ..., 'f', 'd', 'w'],\n",
       "       ...,\n",
       "       ['p', 's', 's', ..., 'f', 'd', 'a'],\n",
       "       ['p', 'f', 's', ..., 'f', 'd', 'a'],\n",
       "       ['p', 'f', 's', ..., 'f', 'd', 'u']], dtype=object)"
      ]
     },
     "execution_count": 17,
     "metadata": {},
     "output_type": "execute_result"
    }
   ],
   "source": [
    "#Test split function\n",
    "column = 1\n",
    "value = 0.8\n",
    "data_below,data_above = split(data,column,value)\n",
    "data_above "
   ]
  },
  {
   "cell_type": "code",
   "execution_count": 18,
   "id": "425af516",
   "metadata": {},
   "outputs": [
    {
     "data": {
      "text/plain": [
       "\"\\ndef calculate_entropy(tree, flag='e'):\\n    \\n    labels=tree[:,0]    \\n    unique_labels,count_unique=np.unique(labels,return_counts=True)\\n    d=dict(zip(unique_labels,count_unique))\\n    gini=0.0\\n    #print(d)\\n    if flag=='g':\\n        total=count_unique.sum()\\n        for key in d.keys():\\n            gini=gini+((d[key]/total)**2)\\n        gini=1-gini\\n        return gini\\n    if flag=='e':\\n        probability=count_unique/count_unique.sum()\\n        entropy=sum(probability*-np.log2(probability))\\n     \\n    return entropy\\n\""
      ]
     },
     "execution_count": 18,
     "metadata": {},
     "output_type": "execute_result"
    }
   ],
   "source": [
    "\"\"\"\n",
    "def calculate_entropy(tree, flag='e'):\n",
    "    \n",
    "    labels=tree[:,0]    \n",
    "    unique_labels,count_unique=np.unique(labels,return_counts=True)\n",
    "    d=dict(zip(unique_labels,count_unique))\n",
    "    gini=0.0\n",
    "    #print(d)\n",
    "    if flag=='g':\n",
    "        total=count_unique.sum()\n",
    "        for key in d.keys():\n",
    "            gini=gini+((d[key]/total)**2)\n",
    "        gini=1-gini\n",
    "        return gini\n",
    "    if flag=='e':\n",
    "        probability=count_unique/count_unique.sum()\n",
    "        entropy=sum(probability*-np.log2(probability))\n",
    "     \n",
    "    return entropy\n",
    "\"\"\""
   ]
  },
  {
   "cell_type": "code",
   "execution_count": 19,
   "id": "2744a414",
   "metadata": {},
   "outputs": [],
   "source": [
    "#function to calculate entropy\n",
    "def calculate_entropy(tree):\n",
    "    \n",
    "    label_column = tree[:, 0]\n",
    "    _, counts = np.unique(label_column, return_counts=True)\n",
    "\n",
    "    probabilities = counts / counts.sum()\n",
    "    entropy = sum(probabilities * -np.log2(probabilities))\n",
    "     \n",
    "    return entropy"
   ]
  },
  {
   "cell_type": "code",
   "execution_count": 20,
   "id": "b102c15e",
   "metadata": {},
   "outputs": [
    {
     "data": {
      "text/plain": [
       "0.9914765665162584"
      ]
     },
     "execution_count": 20,
     "metadata": {},
     "output_type": "execute_result"
    }
   ],
   "source": [
    "# Test entropy function\n",
    "calculate_entropy(data)"
   ]
  },
  {
   "cell_type": "code",
   "execution_count": 21,
   "id": "874e00e5",
   "metadata": {},
   "outputs": [
    {
     "data": {
      "text/plain": [
       "\"\\n#function to calculate overall gini impurity or entropy impurity depending on flag value\\ndef calculate_overall_entropy(data_below,data_above,flag='e'):\\n    n=len(data_below)+len(data_above)\\n    p_left=len(data_below)/n\\n    p_right=len(data_above)/n\\n\\n    \\n    if flag=='g':\\n        lunique_labels,lcount_unique=np.unique(data_below,return_counts=True)\\n        runique_labels,rcount_unique=np.unique(data_above,return_counts=True)\\n        left_dict=dict(zip(lunique_labels, lcount_unique))\\n        lpn= left_dict['p']\\n        right_dict=dict(zip(runique_labels, rcount_unique))\\n        rpn=right_dict['p']\\n        overall_imp=((lpn/n)*calculate_entropy(data_below,flag))+((rpn/n)*calculate_entropy(data_above,flag))\\n    if flag=='e':\\n        overall_imp=(p_left*calculate_entropy(data_below,flag)+p_right*calculate_entropy(data_above,flag))\\n    return overall_imp\\n    \\n\""
      ]
     },
     "execution_count": 21,
     "metadata": {},
     "output_type": "execute_result"
    }
   ],
   "source": [
    "\"\"\"\n",
    "#function to calculate overall gini impurity or entropy impurity depending on flag value\n",
    "def calculate_overall_entropy(data_below,data_above,flag='e'):\n",
    "    n=len(data_below)+len(data_above)\n",
    "    p_left=len(data_below)/n\n",
    "    p_right=len(data_above)/n\n",
    "\n",
    "    \n",
    "    if flag=='g':\n",
    "        lunique_labels,lcount_unique=np.unique(data_below,return_counts=True)\n",
    "        runique_labels,rcount_unique=np.unique(data_above,return_counts=True)\n",
    "        left_dict=dict(zip(lunique_labels, lcount_unique))\n",
    "        lpn= left_dict['p']\n",
    "        right_dict=dict(zip(runique_labels, rcount_unique))\n",
    "        rpn=right_dict['p']\n",
    "        overall_imp=((lpn/n)*calculate_entropy(data_below,flag))+((rpn/n)*calculate_entropy(data_above,flag))\n",
    "    if flag=='e':\n",
    "        overall_imp=(p_left*calculate_entropy(data_below,flag)+p_right*calculate_entropy(data_above,flag))\n",
    "    return overall_imp\n",
    "    \n",
    "\"\"\""
   ]
  },
  {
   "cell_type": "code",
   "execution_count": 22,
   "id": "7893a829",
   "metadata": {},
   "outputs": [],
   "source": [
    "# function to calculate overall entropy\n",
    "def calculate_overall_entropy(data_below, data_above):\n",
    "    \n",
    "    n = len(data_below) + len(data_above)\n",
    "    p_data_below = len(data_below) / n\n",
    "    p_data_above = len(data_above) / n\n",
    "\n",
    "    overall_entropy =  (p_data_below * calculate_entropy(data_below) \n",
    "                      + p_data_above * calculate_entropy(data_above))\n",
    "    \n",
    "    return overall_entropy"
   ]
  },
  {
   "cell_type": "code",
   "execution_count": 23,
   "id": "75dc11bd",
   "metadata": {},
   "outputs": [
    {
     "data": {
      "text/plain": [
       "0.9914765665162584"
      ]
     },
     "execution_count": 23,
     "metadata": {},
     "output_type": "execute_result"
    }
   ],
   "source": [
    "# test function  calculate_overall_entropy\n",
    "calculate_overall_entropy(data_below,data_above)"
   ]
  },
  {
   "cell_type": "code",
   "execution_count": 24,
   "id": "695a78c3",
   "metadata": {},
   "outputs": [
    {
     "data": {
      "text/plain": [
       "'\\ndef determine_best_split(tree, potential_splits):\\n    \\n   overall_imp=999\\n   for column in potential_splits:\\n    for value in potential_splits[column]:\\n        if not isinstance(value,str):\\n            continue\\n        left,right=split(tree,column,value)\\n        current_impurity=calculate_overall_entropy(left,right)\\n\\n        if current_impurity<overall_imp:\\n            overall_imp=current_impurity\\n            best_column=column\\n            best_value=value\\n    return best_column,best_value\\n'"
      ]
     },
     "execution_count": 24,
     "metadata": {},
     "output_type": "execute_result"
    }
   ],
   "source": [
    "\"\"\"\n",
    "def determine_best_split(tree, potential_splits):\n",
    "    \n",
    "   overall_imp=999\n",
    "   for column in potential_splits:\n",
    "    for value in potential_splits[column]:\n",
    "        if not isinstance(value,str):\n",
    "            continue\n",
    "        left,right=split(tree,column,value)\n",
    "        current_impurity=calculate_overall_entropy(left,right)\n",
    "\n",
    "        if current_impurity<overall_imp:\n",
    "            overall_imp=current_impurity\n",
    "            best_column=column\n",
    "            best_value=value\n",
    "    return best_column,best_value\n",
    "\"\"\""
   ]
  },
  {
   "cell_type": "code",
   "execution_count": 25,
   "id": "11c4b518",
   "metadata": {},
   "outputs": [],
   "source": [
    "#function to determine best split in dataset for decision tree\n",
    "def determine_best_split(data, potential_splits):\n",
    "    \n",
    "    overall_entropy = 9999\n",
    "    for column_index in potential_splits:\n",
    "        for value in potential_splits[column_index]:\n",
    "            data_below, data_above = split(data, column_index, value)\n",
    "            current_overall_entropy = calculate_overall_entropy(data_below, data_above)\n",
    "\n",
    "            if current_overall_entropy <= overall_entropy:\n",
    "                overall_entropy = current_overall_entropy\n",
    "                best_split_column = column_index\n",
    "                best_split_value = value\n",
    "    \n",
    "    return best_split_column, best_split_value"
   ]
  },
  {
   "cell_type": "code",
   "execution_count": 26,
   "id": "49a00599",
   "metadata": {},
   "outputs": [
    {
     "data": {
      "text/plain": [
       "(0, 'p')"
      ]
     },
     "execution_count": 26,
     "metadata": {},
     "output_type": "execute_result"
    }
   ],
   "source": [
    "#Test determine_best_split function\n",
    "potential_splits = find_potential_splits(data)\n",
    "determine_best_split(data,potential_splits)"
   ]
  },
  {
   "cell_type": "code",
   "execution_count": 27,
   "id": "efe1b7d9",
   "metadata": {},
   "outputs": [],
   "source": [
    "#function to seperate the features as continuous or categorical\n",
    "def type_features(data):\n",
    "    \n",
    "    feature_types = []\n",
    "    threshold = 15\n",
    "    for feature in data.columns:\n",
    "        if feature != \"label\":\n",
    "            unique_values = data[feature].unique()\n",
    "            example_value = unique_values[0]\n",
    "\n",
    "            if (isinstance(example_value, str)) or (len(unique_values) <= threshold):\n",
    "                feature_types.append(\"categorical\")\n",
    "            else:\n",
    "                feature_types.append(\"continuous\")\n",
    "    \n",
    "    return feature_types"
   ]
  },
  {
   "cell_type": "code",
   "execution_count": 28,
   "id": "142c58fd",
   "metadata": {},
   "outputs": [],
   "source": [
    "# Main Decision_tree function\n",
    "def decision_tree(data,counter=0,min_samples=2,max_depth=5):\n",
    "    #for first case with root node\n",
    "    if counter == 0:\n",
    "        global column_headings,features_types\n",
    "        column_headings=data.columns\n",
    "        features_types=type_features(data)\n",
    "        data = data.values\n",
    "    else:\n",
    "        data = data\n",
    "    #stopping criteria for recursion\n",
    "    if (check_label(data)):# or (len(data)<=min_samples) or (counter==max_depth):\n",
    "        classification=classify(data)\n",
    "        \n",
    "        return classification\n",
    "    \n",
    "    else:\n",
    "        #recursion starts and counter value increased\n",
    "        counter=counter+1\n",
    "        #find all potential split values in the data\n",
    "        potential_splits= find_potential_splits(data)\n",
    "        #find the best split column and its respective value\n",
    "        best_column,best_value= determine_best_split(data,potential_splits)\n",
    "        #split the data according to the parameters received above\n",
    "        left,right=split(data,best_column,best_value)\n",
    "        #find the feature used to split data\n",
    "        feature=column_headings[best_column]\n",
    "        #find the type of feature\n",
    "        feature_type = features_types[best_column-1]\n",
    "        #representation of question in the tree\n",
    "        if feature_type == \"continuous\":\n",
    "            question=\"{} <= {}\".format(feature,best_value)\n",
    "        else:\n",
    "            question=\"{} == {}\".format(feature,best_value)\n",
    "        #creating the subtrees\n",
    "        subtree = {question: []}\n",
    "        \n",
    "        yes=decision_tree(left,counter,min_samples)\n",
    "        no=decision_tree(right,counter,min_samples)\n",
    "        #if both subtrees result the same result no need to progress\n",
    "        if yes==no:\n",
    "            subtree=yes\n",
    "        else:\n",
    "            #appending appropriate values\n",
    "            subtree[question].append(yes)\n",
    "            subtree[question].append(no)\n",
    "        \n",
    "        return subtree"
   ]
  },
  {
   "cell_type": "code",
   "execution_count": 29,
   "id": "8b8d9f41",
   "metadata": {},
   "outputs": [
    {
     "name": "stdout",
     "output_type": "stream",
     "text": [
      "{'class == p': ['p', 'e']}\n"
     ]
    }
   ],
   "source": [
    "#Test Decision tree function\n",
    "tree = decision_tree(train_df, max_depth=3)\n",
    "pprint(tree)"
   ]
  },
  {
   "cell_type": "code",
   "execution_count": 30,
   "id": "5df12820",
   "metadata": {},
   "outputs": [
    {
     "name": "stdout",
     "output_type": "stream",
     "text": [
      "['categorical', 'categorical', 'categorical', 'categorical', 'categorical', 'categorical', 'categorical', 'categorical', 'categorical', 'categorical', 'categorical', 'categorical', 'categorical', 'categorical', 'categorical', 'categorical', 'categorical', 'categorical']\n"
     ]
    }
   ],
   "source": [
    "print(features_types)"
   ]
  },
  {
   "cell_type": "code",
   "execution_count": 31,
   "id": "497d00c9",
   "metadata": {},
   "outputs": [
    {
     "data": {
      "text/plain": [
       "class                   e\n",
       "cap-shape               p\n",
       "cap-surface             d\n",
       "cap-color               e\n",
       "does-bruise-or-bleed    f\n",
       "gill-attachment         p\n",
       "gill-spacing            f\n",
       "gill-color              w\n",
       "stem-root               s\n",
       "stem-surface            y\n",
       "stem-color              w\n",
       "veil-type               f\n",
       "veil-color              f\n",
       "has-ring                f\n",
       "ring-type               f\n",
       "spore-print-color       f\n",
       "habitat                 d\n",
       "season                  u\n",
       "Name: 51860, dtype: object"
      ]
     },
     "execution_count": 31,
     "metadata": {},
     "output_type": "execute_result"
    }
   ],
   "source": [
    "#testing the trained decision tree with single sample\n",
    "example = test_df.iloc[0]\n",
    "example"
   ]
  },
  {
   "cell_type": "code",
   "execution_count": 32,
   "id": "612d8546",
   "metadata": {},
   "outputs": [],
   "source": [
    "#function to classify the tree for single sample\n",
    "def classify_example(example,tree):\n",
    "    question=list(tree.keys())[0]\n",
    "    feature,operator,value=question.split()\n",
    "    if operator==\"<=\":\n",
    "        if example[feature]<=float(value):\n",
    "            answer=tree[question][0]\n",
    "        else:\n",
    "            answer=tree[question][1]\n",
    "    else:\n",
    "        if str(example[feature])==value:\n",
    "            answer=tree[question][0]\n",
    "        else:\n",
    "            answer=tree[question][1]\n",
    "          \n",
    "    \n",
    "    if not isinstance(answer,dict):\n",
    "        return answer\n",
    "    else:\n",
    "        rem_tree=answer\n",
    "        return classify_example(example,rem_tree)"
   ]
  },
  {
   "cell_type": "code",
   "execution_count": 33,
   "id": "d08ea227",
   "metadata": {},
   "outputs": [
    {
     "data": {
      "text/plain": [
       "'e'"
      ]
     },
     "execution_count": 33,
     "metadata": {},
     "output_type": "execute_result"
    }
   ],
   "source": [
    "classify_example(example, tree)"
   ]
  },
  {
   "cell_type": "code",
   "execution_count": 34,
   "id": "df264e0e",
   "metadata": {},
   "outputs": [],
   "source": [
    "#rename class to label in training set\n",
    "train_df[\"label\"] = train_df[\"class\"]"
   ]
  },
  {
   "cell_type": "code",
   "execution_count": 35,
   "id": "264e5ca1",
   "metadata": {},
   "outputs": [],
   "source": [
    "#function to confusion_matrix of the tree\n",
    "def confusion_matrix(data,tree):\n",
    "    data[\"classification\"]=data.apply(classify_example,axis=1,args=(tree,))\n",
    "    data[\"classification_Is_correct\"]=data.classification==data.label\n",
    "    \n",
    "    Y_actual_values = pd.Series(data.label, name='Actual')\n",
    "    y_predct_values = pd.Series(data.classification, name='Predicted')\n",
    "    df_confusion = pd.crosstab(Y_actual_values, y_predct_values)\n",
    "    df_conf_norm = df_confusion / df_confusion.sum(axis=1)\n",
    "    print(\"Confusion Matrix\",end='\\n\\n')\n",
    "    print(df_confusion,end='\\n\\n')\n",
    "    print(\"Normalised Confusion Matrix\",end='\\n\\n')\n",
    "    print(df_conf_norm,end='\\n\\n')    \n",
    "   \n",
    "    index = pd.IndexSlice\n",
    "    TP=df_confusion.loc['e', index['e']]\n",
    "    FP=df_confusion.loc['p', index['e']]\n",
    "    TN=df_confusion.loc['p', index['p']]\n",
    "    FN=df_confusion.loc['e', index['p']]\n",
    "    accuracy=(TP+TN)/(TP+TN+FP+FN)\n",
    "    precision= TP/(TP+FP)\n",
    "    recall=TP/(TP+FN)\n",
    "    f1=2*((precision*recall)/(precision+recall))\n",
    "    #accuracy=data.classification_correct.mean()\n",
    "    return accuracy,f1\n",
    "    "
   ]
  },
  {
   "cell_type": "code",
   "execution_count": 36,
   "id": "febb7234",
   "metadata": {},
   "outputs": [
    {
     "name": "stdout",
     "output_type": "stream",
     "text": [
      "Confusion Matrix\n",
      "\n",
      "Predicted      e      p\n",
      "Actual                 \n",
      "e          16331      0\n",
      "p              0  20310\n",
      "\n",
      "Normalised Confusion Matrix\n",
      "\n",
      "Predicted    e    p\n",
      "Actual             \n",
      "e          1.0  0.0\n",
      "p          0.0  1.0\n",
      "\n",
      "Accuracy= 1.0\n",
      "F1 Score= 1.0\n"
     ]
    }
   ],
   "source": [
    "#displaying accuracy for train data for gini impurity\n",
    "accuracy,f1 = confusion_matrix(train_df, tree)\n",
    "print(\"Accuracy=\",accuracy)\n",
    "print(\"F1 Score=\",f1)"
   ]
  },
  {
   "cell_type": "code",
   "execution_count": 37,
   "id": "69bd133f",
   "metadata": {},
   "outputs": [
    {
     "name": "stdout",
     "output_type": "stream",
     "text": [
      "{'class == p': ['p', 'e']}\n",
      "Accuracy= 1.0\n",
      "F1 Score= 1.0\n"
     ]
    }
   ],
   "source": [
    "#printing the tree for test data with gini impurity \n",
    "tr_data, ts_data = train_test_split(train_df, test_size = 0.5)\n",
    "\n",
    "calculate_accuracy(ts_data, tree)\n",
    "\n",
    "pprint(tree)\n",
    "print(\"Accuracy=\",accuracy)\n",
    "print(\"F1 Score=\",f1)"
   ]
  },
  {
   "cell_type": "code",
   "execution_count": 38,
   "id": "2f23c60c",
   "metadata": {},
   "outputs": [],
   "source": [
    "mushroom_DT[\"label\"] = mushroom_DT.season"
   ]
  },
  {
   "cell_type": "code",
   "execution_count": 39,
   "id": "2d5ca30d",
   "metadata": {},
   "outputs": [],
   "source": [
    "#helper functions for post pruning\n",
    "def filter_df(df, question):\n",
    "    feature, comparison_operator, value = question.split()\n",
    "    \n",
    "    # continuous feature\n",
    "    if comparison_operator == \"<=\":\n",
    "        df_yes = df[df[feature] <= float(value)]\n",
    "        df_no =  df[df[feature] >  float(value)]\n",
    "        \n",
    "    # categorical feature\n",
    "    else:\n",
    "        df_yes = df[df[feature].astype(str) == value]\n",
    "        df_no  = df[df[feature].astype(str) != value]\n",
    "    \n",
    "    return df_yes, df_no"
   ]
  },
  {
   "cell_type": "code",
   "execution_count": 40,
   "id": "1bbbc455",
   "metadata": {},
   "outputs": [],
   "source": [
    "def determine_leaf(df_train, ml_task):\n",
    "    \n",
    "    if ml_task == \"regression\":\n",
    "        return df_train.label.mean()\n",
    "    \n",
    "    # classification\n",
    "    else:\n",
    "        return df_train.label.value_counts().index[0]"
   ]
  },
  {
   "cell_type": "code",
   "execution_count": 41,
   "id": "52f50ed1",
   "metadata": {},
   "outputs": [],
   "source": [
    "def determine_errors(df_val, tree, ml_task):\n",
    "    predictions = make_predictions(df_val, tree)\n",
    "    actual_values = df_val.label\n",
    "    \n",
    "    if ml_task == \"regression\":\n",
    "        # mean squared error\n",
    "        return ((predictions - actual_values) **2).mean()\n",
    "    else:\n",
    "        # number of errors\n",
    "        return sum(predictions != actual_values)"
   ]
  },
  {
   "cell_type": "code",
   "execution_count": 42,
   "id": "652b0490",
   "metadata": {},
   "outputs": [],
   "source": [
    "def pruning_result(tree, df_train, df_val, ml_task):\n",
    "    \n",
    "    leaf = determine_leaf(df_train, ml_task)\n",
    "    errors_leaf = determine_errors(df_val, leaf, ml_task)\n",
    "    errors_decision_node = determine_errors(df_val, tree, ml_task)\n",
    "\n",
    "    if errors_leaf <= errors_decision_node:\n",
    "        return leaf\n",
    "    else:\n",
    "        return tree"
   ]
  },
  {
   "cell_type": "code",
   "execution_count": 43,
   "id": "444dac29",
   "metadata": {},
   "outputs": [],
   "source": [
    "def post_pruning(tree, df_train, df_val, ml_task):\n",
    "    \n",
    "    question = list(tree.keys())[0]\n",
    "    yes_answer, no_answer = tree[question]\n",
    "\n",
    "    # base case\n",
    "    if not isinstance(yes_answer, dict) and not isinstance(no_answer, dict):\n",
    "        return pruning_result(tree, df_train, df_val, ml_task)\n",
    "        \n",
    "    # recursive part\n",
    "    else:\n",
    "        df_train_yes, df_train_no = filter_df(df_train, question)\n",
    "        df_val_yes, df_val_no = filter_df(df_val, question)\n",
    "        \n",
    "        if isinstance(yes_answer, dict):\n",
    "            yes_answer = post_pruning(yes_answer, df_train_yes, df_val_yes, ml_task)\n",
    "            \n",
    "        if isinstance(no_answer, dict):\n",
    "            no_answer = post_pruning(no_answer, df_train_no, df_val_no, ml_task)\n",
    "        \n",
    "        tree = {question: [yes_answer, no_answer]}\n",
    "    \n",
    "        return pruning_result(tree, df_train, df_val, ml_task)"
   ]
  },
  {
   "cell_type": "code",
   "execution_count": 44,
   "id": "0b645789",
   "metadata": {},
   "outputs": [
    {
     "data": {
      "image/png": "[encoded data removed]",
      "text/plain": [
       "<Figure size 432x288 with 1 Axes>"
      ]
     },
     "metadata": {},
     "output_type": "display_data"
    }
   ],
   "source": [
    "# np.random.seed(0)\n",
    "df_train = generate_data(n=300, n_random_outliers=5)\n",
    "tree = decision_tree_algorithm(df_train, ml_task=\"classification\", max_depth=10)\n",
    "create_plot(df_train, tree, title=\"Training Data\")"
   ]
  },
  {
   "cell_type": "code",
   "execution_count": 45,
   "id": "1c8f6dcd",
   "metadata": {},
   "outputs": [
    {
     "data": {
      "image/png": "[encoded data removed]",
      "text/plain": [
       "<Figure size 432x288 with 1 Axes>"
      ]
     },
     "metadata": {},
     "output_type": "display_data"
    }
   ],
   "source": [
    "# np.random.seed(7)\n",
    "df_val = generate_data(n=300)\n",
    "tree_pruned = post_pruning(tree, df_train, df_val, ml_task=\"classification\")\n",
    "create_plot(df_val, tree_pruned, title=\"Validation Data\")"
   ]
  },
  {
   "cell_type": "code",
   "execution_count": 46,
   "id": "c762a5a4",
   "metadata": {},
   "outputs": [],
   "source": [
    "#omparing the accuracy of the tree before and after post-pruning using different values for the \"max_depth\" parameter.\n",
    "metrics = {\"max_depth\": [], \"acc_tree\": [], \"acc_tree_pruned\": []}\n",
    "\n",
    "for n in range(10, 100):\n",
    "#split training by 0.6 to 0.4\n",
    "#split remaining 0.4 into half\n",
    "    df_train, df_test = train_test_split(mushroom_DT, test_size=0.6)\n",
    "    df_train, df_val = train_test_split(df_train, test_size=0.5)\n",
    "\n",
    "    tree = decision_tree_algorithm(df_train, ml_task=\"classification\", max_depth=n)\n",
    "    tree_pruned = post_pruning(tree, df_train, df_val, ml_task=\"classification\")\n",
    "\n",
    "    metrics[\"max_depth\"].append(n)\n",
    "    metrics[\"acc_tree\"].append(calculate_accuracy(df_test, tree))\n",
    "    metrics[\"acc_tree_pruned\"].append(calculate_accuracy(df_test, tree_pruned))\n",
    "       \n",
    "df_metrics = pd.DataFrame(metrics)  \n",
    "df_metrics = df_metrics.set_index(\"max_depth\")"
   ]
  },
  {
   "cell_type": "code",
   "execution_count": 47,
   "id": "6da5fff2",
   "metadata": {},
   "outputs": [
    {
     "data": {
      "text/plain": [
       "<AxesSubplot:xlabel='max_depth'>"
      ]
     },
     "execution_count": 47,
     "metadata": {},
     "output_type": "execute_result"
    },
    {
     "data": {
      "image/png": "[encoded data removed]",
      "text/plain": [
       "<Figure size 864x360 with 1 Axes>"
      ]
     },
     "metadata": {},
     "output_type": "display_data"
    }
   ],
   "source": [
    "#plot graph\n",
    "df_metrics.plot(figsize=(12, 5), marker=\"o\")"
   ]
  },
  {
   "cell_type": "markdown",
   "id": "420584e7",
   "metadata": {},
   "source": []
  },
  {
   "cell_type": "code",
   "execution_count": null,
   "id": "03bf1603",
   "metadata": {},
   "outputs": [],
   "source": []
  }
 ],
 "metadata": {
  "kernelspec": {
   "display_name": "Python 3 (ipykernel)",
   "language": "python",
   "name": "python3"
  },
  "language_info": {
   "codemirror_mode": {
    "name": "ipython",
    "version": 3
   },
   "file_extension": ".py",
   "mimetype": "text/x-python",
   "name": "python",
   "nbconvert_exporter": "python",
   "pygments_lexer": "ipython3",
   "version": "3.9.7"
  }
 },
 "nbformat": 4,
 "nbformat_minor": 5
}
